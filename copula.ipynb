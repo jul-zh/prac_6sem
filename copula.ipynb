{
  "nbformat": 4,
  "nbformat_minor": 0,
  "metadata": {
    "colab": {
      "provenance": []
    },
    "kernelspec": {
      "name": "python3",
      "display_name": "Python 3"
    },
    "language_info": {
      "name": "python"
    }
  },
  "cells": [
    {
      "cell_type": "code",
      "source": [
        "import os\n",
        "import pandas as pd\n",
        "import numpy as np\n",
        "import matplotlib.pyplot as plt\n",
        "import seaborn as sns"
      ],
      "metadata": {
        "id": "l_rVS82idNcy"
      },
      "execution_count": 1,
      "outputs": []
    },
    {
      "cell_type": "code",
      "source": [
        "folder_path = '/content'\n",
        "dataframes_dict = {}\n",
        "for filename in os.listdir(folder_path):\n",
        "    if filename.endswith('.csv'):\n",
        "        key = filename.split('_')[0]\n",
        "        file_path = os.path.join(folder_path, filename)\n",
        "        dataframes_dict[key] = pd.read_csv(file_path, sep=';')\n",
        "        dataframes_dict[key]['<DATE>'] = pd.to_datetime(dataframes_dict[key]['<DATE>'], format='%y%m%d')\n",
        "dataframes = list(dataframes_dict.values())"
      ],
      "metadata": {
        "id": "O0o-nGP1dNcJ"
      },
      "execution_count": 2,
      "outputs": []
    },
    {
      "cell_type": "code",
      "source": [
        "# Вычисление логарифмических доходностей\n",
        "for i, df in enumerate(dataframes):\n",
        "\n",
        "    df['log_return'] = np.nan\n",
        "\n",
        "    for j in range(1, len(df)):\n",
        "        prev_date = df.iloc[j - 1]['<DATE>']\n",
        "        current_date = df.iloc[j]['<DATE>']\n",
        "\n",
        "        # Проверяем, что предыдущая дата идет непосредственно перед текущей\n",
        "        if (current_date - prev_date).days == 1:\n",
        "            df.at[df.index[j], 'log_return'] = np.log(df.iloc[j]['<CLOSE>']) - np.log(df.iloc[j - 1]['<CLOSE>'])\n",
        "        else:\n",
        "            df.at[df.index[j], 'log_return'] = np.nan  # Если предыдущей даты нет, пишем NA\n",
        "\n",
        "    df = df.dropna(subset=['log_return'])\n",
        "    dataframes[i] = df"
      ],
      "metadata": {
        "id": "E_IQiN-Cmsx9"
      },
      "execution_count": 4,
      "outputs": []
    },
    {
      "cell_type": "code",
      "source": [
        "log_return_dfs = []\n",
        "\n",
        "for df in dataframes:\n",
        "    log_return_df = df[['<DATE>', 'log_return']].copy()\n",
        "\n",
        "    ticker = df['<TICKER>'].iloc[0]\n",
        "    log_return_df.rename(columns={'log_return': ticker}, inplace=True)\n",
        "\n",
        "    log_return_dfs.append(log_return_df)\n",
        "\n",
        "# Объединяем все датафреймы по колонке '<DATE>'\n",
        "merged_df = log_return_dfs[0]\n",
        "for df in log_return_dfs[1:]:\n",
        "    merged_df = pd.merge(merged_df, df, on='<DATE>', how='inner')  # Объединяем по дате\n",
        "\n",
        "print(merged_df.head())"
      ],
      "metadata": {
        "colab": {
          "base_uri": "https://localhost:8080/"
        },
        "id": "pybHroj3djwy",
        "outputId": "70c6d054-66c4-47a7-c5f3-48c58c7063fa"
      },
      "execution_count": 5,
      "outputs": [
        {
          "output_type": "stream",
          "name": "stdout",
          "text": [
            "      <DATE>      GAZP    EURUSD        BZ\n",
            "0 2024-05-15 -0.011081  0.002027 -0.007940\n",
            "1 2024-05-16  0.005174  0.006866  0.001328\n",
            "2 2024-05-17  0.005781 -0.001829  0.006493\n",
            "3 2024-05-18 -0.017314 -0.000028  0.006689\n",
            "4 2024-05-22 -0.038589 -0.000654 -0.014197\n"
          ]
        }
      ]
    },
    {
      "cell_type": "code",
      "source": [
        "merged_df.shape"
      ],
      "metadata": {
        "colab": {
          "base_uri": "https://localhost:8080/"
        },
        "id": "RDCUBmu8djxk",
        "outputId": "6969875c-d981-42f4-eaae-2a3f3cfe4020"
      },
      "execution_count": 6,
      "outputs": [
        {
          "output_type": "execute_result",
          "data": {
            "text/plain": [
              "(193, 4)"
            ]
          },
          "metadata": {},
          "execution_count": 6
        }
      ]
    },
    {
      "cell_type": "code",
      "source": [
        "cols = ['GAZP','BZ']\n",
        "stocks = merged_df[cols]"
      ],
      "metadata": {
        "id": "wTU9Rz7OdrI1"
      },
      "execution_count": 7,
      "outputs": []
    },
    {
      "cell_type": "code",
      "source": [
        "stocks.corr()"
      ],
      "metadata": {
        "colab": {
          "base_uri": "https://localhost:8080/",
          "height": 112
        },
        "id": "s3e62gEAeXZu",
        "outputId": "b036114e-1d6a-4421-f345-f02b35e4af85"
      },
      "execution_count": 8,
      "outputs": [
        {
          "output_type": "execute_result",
          "data": {
            "text/plain": [
              "         GAZP       BZ\n",
              "GAZP  1.00000  0.19486\n",
              "BZ    0.19486  1.00000"
            ],
            "text/html": [
              "\n",
              "  <div id=\"df-eccd2544-2ec6-4508-a4b2-7b902761c11e\" class=\"colab-df-container\">\n",
              "    <div>\n",
              "<style scoped>\n",
              "    .dataframe tbody tr th:only-of-type {\n",
              "        vertical-align: middle;\n",
              "    }\n",
              "\n",
              "    .dataframe tbody tr th {\n",
              "        vertical-align: top;\n",
              "    }\n",
              "\n",
              "    .dataframe thead th {\n",
              "        text-align: right;\n",
              "    }\n",
              "</style>\n",
              "<table border=\"1\" class=\"dataframe\">\n",
              "  <thead>\n",
              "    <tr style=\"text-align: right;\">\n",
              "      <th></th>\n",
              "      <th>GAZP</th>\n",
              "      <th>BZ</th>\n",
              "    </tr>\n",
              "  </thead>\n",
              "  <tbody>\n",
              "    <tr>\n",
              "      <th>GAZP</th>\n",
              "      <td>1.00000</td>\n",
              "      <td>0.19486</td>\n",
              "    </tr>\n",
              "    <tr>\n",
              "      <th>BZ</th>\n",
              "      <td>0.19486</td>\n",
              "      <td>1.00000</td>\n",
              "    </tr>\n",
              "  </tbody>\n",
              "</table>\n",
              "</div>\n",
              "    <div class=\"colab-df-buttons\">\n",
              "\n",
              "  <div class=\"colab-df-container\">\n",
              "    <button class=\"colab-df-convert\" onclick=\"convertToInteractive('df-eccd2544-2ec6-4508-a4b2-7b902761c11e')\"\n",
              "            title=\"Convert this dataframe to an interactive table.\"\n",
              "            style=\"display:none;\">\n",
              "\n",
              "  <svg xmlns=\"http://www.w3.org/2000/svg\" height=\"24px\" viewBox=\"0 -960 960 960\">\n",
              "    <path d=\"M120-120v-720h720v720H120Zm60-500h600v-160H180v160Zm220 220h160v-160H400v160Zm0 220h160v-160H400v160ZM180-400h160v-160H180v160Zm440 0h160v-160H620v160ZM180-180h160v-160H180v160Zm440 0h160v-160H620v160Z\"/>\n",
              "  </svg>\n",
              "    </button>\n",
              "\n",
              "  <style>\n",
              "    .colab-df-container {\n",
              "      display:flex;\n",
              "      gap: 12px;\n",
              "    }\n",
              "\n",
              "    .colab-df-convert {\n",
              "      background-color: #E8F0FE;\n",
              "      border: none;\n",
              "      border-radius: 50%;\n",
              "      cursor: pointer;\n",
              "      display: none;\n",
              "      fill: #1967D2;\n",
              "      height: 32px;\n",
              "      padding: 0 0 0 0;\n",
              "      width: 32px;\n",
              "    }\n",
              "\n",
              "    .colab-df-convert:hover {\n",
              "      background-color: #E2EBFA;\n",
              "      box-shadow: 0px 1px 2px rgba(60, 64, 67, 0.3), 0px 1px 3px 1px rgba(60, 64, 67, 0.15);\n",
              "      fill: #174EA6;\n",
              "    }\n",
              "\n",
              "    .colab-df-buttons div {\n",
              "      margin-bottom: 4px;\n",
              "    }\n",
              "\n",
              "    [theme=dark] .colab-df-convert {\n",
              "      background-color: #3B4455;\n",
              "      fill: #D2E3FC;\n",
              "    }\n",
              "\n",
              "    [theme=dark] .colab-df-convert:hover {\n",
              "      background-color: #434B5C;\n",
              "      box-shadow: 0px 1px 3px 1px rgba(0, 0, 0, 0.15);\n",
              "      filter: drop-shadow(0px 1px 2px rgba(0, 0, 0, 0.3));\n",
              "      fill: #FFFFFF;\n",
              "    }\n",
              "  </style>\n",
              "\n",
              "    <script>\n",
              "      const buttonEl =\n",
              "        document.querySelector('#df-eccd2544-2ec6-4508-a4b2-7b902761c11e button.colab-df-convert');\n",
              "      buttonEl.style.display =\n",
              "        google.colab.kernel.accessAllowed ? 'block' : 'none';\n",
              "\n",
              "      async function convertToInteractive(key) {\n",
              "        const element = document.querySelector('#df-eccd2544-2ec6-4508-a4b2-7b902761c11e');\n",
              "        const dataTable =\n",
              "          await google.colab.kernel.invokeFunction('convertToInteractive',\n",
              "                                                    [key], {});\n",
              "        if (!dataTable) return;\n",
              "\n",
              "        const docLinkHtml = 'Like what you see? Visit the ' +\n",
              "          '<a target=\"_blank\" href=https://colab.research.google.com/notebooks/data_table.ipynb>data table notebook</a>'\n",
              "          + ' to learn more about interactive tables.';\n",
              "        element.innerHTML = '';\n",
              "        dataTable['output_type'] = 'display_data';\n",
              "        await google.colab.output.renderOutput(dataTable, element);\n",
              "        const docLink = document.createElement('div');\n",
              "        docLink.innerHTML = docLinkHtml;\n",
              "        element.appendChild(docLink);\n",
              "      }\n",
              "    </script>\n",
              "  </div>\n",
              "\n",
              "\n",
              "    <div id=\"df-3aff75f5-0e72-47d7-a63a-da17742d1598\">\n",
              "      <button class=\"colab-df-quickchart\" onclick=\"quickchart('df-3aff75f5-0e72-47d7-a63a-da17742d1598')\"\n",
              "                title=\"Suggest charts\"\n",
              "                style=\"display:none;\">\n",
              "\n",
              "<svg xmlns=\"http://www.w3.org/2000/svg\" height=\"24px\"viewBox=\"0 0 24 24\"\n",
              "     width=\"24px\">\n",
              "    <g>\n",
              "        <path d=\"M19 3H5c-1.1 0-2 .9-2 2v14c0 1.1.9 2 2 2h14c1.1 0 2-.9 2-2V5c0-1.1-.9-2-2-2zM9 17H7v-7h2v7zm4 0h-2V7h2v10zm4 0h-2v-4h2v4z\"/>\n",
              "    </g>\n",
              "</svg>\n",
              "      </button>\n",
              "\n",
              "<style>\n",
              "  .colab-df-quickchart {\n",
              "      --bg-color: #E8F0FE;\n",
              "      --fill-color: #1967D2;\n",
              "      --hover-bg-color: #E2EBFA;\n",
              "      --hover-fill-color: #174EA6;\n",
              "      --disabled-fill-color: #AAA;\n",
              "      --disabled-bg-color: #DDD;\n",
              "  }\n",
              "\n",
              "  [theme=dark] .colab-df-quickchart {\n",
              "      --bg-color: #3B4455;\n",
              "      --fill-color: #D2E3FC;\n",
              "      --hover-bg-color: #434B5C;\n",
              "      --hover-fill-color: #FFFFFF;\n",
              "      --disabled-bg-color: #3B4455;\n",
              "      --disabled-fill-color: #666;\n",
              "  }\n",
              "\n",
              "  .colab-df-quickchart {\n",
              "    background-color: var(--bg-color);\n",
              "    border: none;\n",
              "    border-radius: 50%;\n",
              "    cursor: pointer;\n",
              "    display: none;\n",
              "    fill: var(--fill-color);\n",
              "    height: 32px;\n",
              "    padding: 0;\n",
              "    width: 32px;\n",
              "  }\n",
              "\n",
              "  .colab-df-quickchart:hover {\n",
              "    background-color: var(--hover-bg-color);\n",
              "    box-shadow: 0 1px 2px rgba(60, 64, 67, 0.3), 0 1px 3px 1px rgba(60, 64, 67, 0.15);\n",
              "    fill: var(--button-hover-fill-color);\n",
              "  }\n",
              "\n",
              "  .colab-df-quickchart-complete:disabled,\n",
              "  .colab-df-quickchart-complete:disabled:hover {\n",
              "    background-color: var(--disabled-bg-color);\n",
              "    fill: var(--disabled-fill-color);\n",
              "    box-shadow: none;\n",
              "  }\n",
              "\n",
              "  .colab-df-spinner {\n",
              "    border: 2px solid var(--fill-color);\n",
              "    border-color: transparent;\n",
              "    border-bottom-color: var(--fill-color);\n",
              "    animation:\n",
              "      spin 1s steps(1) infinite;\n",
              "  }\n",
              "\n",
              "  @keyframes spin {\n",
              "    0% {\n",
              "      border-color: transparent;\n",
              "      border-bottom-color: var(--fill-color);\n",
              "      border-left-color: var(--fill-color);\n",
              "    }\n",
              "    20% {\n",
              "      border-color: transparent;\n",
              "      border-left-color: var(--fill-color);\n",
              "      border-top-color: var(--fill-color);\n",
              "    }\n",
              "    30% {\n",
              "      border-color: transparent;\n",
              "      border-left-color: var(--fill-color);\n",
              "      border-top-color: var(--fill-color);\n",
              "      border-right-color: var(--fill-color);\n",
              "    }\n",
              "    40% {\n",
              "      border-color: transparent;\n",
              "      border-right-color: var(--fill-color);\n",
              "      border-top-color: var(--fill-color);\n",
              "    }\n",
              "    60% {\n",
              "      border-color: transparent;\n",
              "      border-right-color: var(--fill-color);\n",
              "    }\n",
              "    80% {\n",
              "      border-color: transparent;\n",
              "      border-right-color: var(--fill-color);\n",
              "      border-bottom-color: var(--fill-color);\n",
              "    }\n",
              "    90% {\n",
              "      border-color: transparent;\n",
              "      border-bottom-color: var(--fill-color);\n",
              "    }\n",
              "  }\n",
              "</style>\n",
              "\n",
              "      <script>\n",
              "        async function quickchart(key) {\n",
              "          const quickchartButtonEl =\n",
              "            document.querySelector('#' + key + ' button');\n",
              "          quickchartButtonEl.disabled = true;  // To prevent multiple clicks.\n",
              "          quickchartButtonEl.classList.add('colab-df-spinner');\n",
              "          try {\n",
              "            const charts = await google.colab.kernel.invokeFunction(\n",
              "                'suggestCharts', [key], {});\n",
              "          } catch (error) {\n",
              "            console.error('Error during call to suggestCharts:', error);\n",
              "          }\n",
              "          quickchartButtonEl.classList.remove('colab-df-spinner');\n",
              "          quickchartButtonEl.classList.add('colab-df-quickchart-complete');\n",
              "        }\n",
              "        (() => {\n",
              "          let quickchartButtonEl =\n",
              "            document.querySelector('#df-3aff75f5-0e72-47d7-a63a-da17742d1598 button');\n",
              "          quickchartButtonEl.style.display =\n",
              "            google.colab.kernel.accessAllowed ? 'block' : 'none';\n",
              "        })();\n",
              "      </script>\n",
              "    </div>\n",
              "    </div>\n",
              "  </div>\n"
            ],
            "application/vnd.google.colaboratory.intrinsic+json": {
              "type": "dataframe",
              "summary": "{\n  \"name\": \"stocks\",\n  \"rows\": 2,\n  \"fields\": [\n    {\n      \"column\": \"GAZP\",\n      \"properties\": {\n        \"dtype\": \"number\",\n        \"std\": 0.5693198764796696,\n        \"min\": 0.19486010935387593,\n        \"max\": 1.0,\n        \"num_unique_values\": 2,\n        \"samples\": [\n          0.19486010935387593,\n          1.0\n        ],\n        \"semantic_type\": \"\",\n        \"description\": \"\"\n      }\n    },\n    {\n      \"column\": \"BZ\",\n      \"properties\": {\n        \"dtype\": \"number\",\n        \"std\": 0.5693198764796696,\n        \"min\": 0.19486010935387593,\n        \"max\": 1.0,\n        \"num_unique_values\": 2,\n        \"samples\": [\n          1.0,\n          0.19486010935387593\n        ],\n        \"semantic_type\": \"\",\n        \"description\": \"\"\n      }\n    }\n  ]\n}"
            }
          },
          "metadata": {},
          "execution_count": 8
        }
      ]
    },
    {
      "cell_type": "code",
      "source": [
        "sns.jointplot(data=stocks, x=\"GAZP\", y=\"BZ\")"
      ],
      "metadata": {
        "colab": {
          "base_uri": "https://localhost:8080/",
          "height": 625
        },
        "id": "12jkyDcuedQ4",
        "outputId": "0731ba70-7c38-4001-89c8-d56ba665aa1e"
      },
      "execution_count": 9,
      "outputs": [
        {
          "output_type": "execute_result",
          "data": {
            "text/plain": [
              "<seaborn.axisgrid.JointGrid at 0x78a7877f9c10>"
            ]
          },
          "metadata": {},
          "execution_count": 9
        },
        {
          "output_type": "display_data",
          "data": {
            "text/plain": [
              "<Figure size 600x600 with 3 Axes>"
            ],
            "image/png": "[encoded data removed]"
          },
          "metadata": {}
        }
      ]
    },
    {
      "cell_type": "code",
      "source": [
        "%pip install copulas"
      ],
      "metadata": {
        "colab": {
          "base_uri": "https://localhost:8080/"
        },
        "id": "V3v5JkLSmO2T",
        "outputId": "3254b2ed-a304-45a8-eb02-288e1a631119"
      },
      "execution_count": 10,
      "outputs": [
        {
          "output_type": "stream",
          "name": "stdout",
          "text": [
            "Requirement already satisfied: copulas in /usr/local/lib/python3.11/dist-packages (0.12.2)\n",
            "Requirement already satisfied: numpy>=1.23.3 in /usr/local/lib/python3.11/dist-packages (from copulas) (2.2.5)\n",
            "Requirement already satisfied: pandas>=1.5.0 in /usr/local/lib/python3.11/dist-packages (from copulas) (2.2.2)\n",
            "Requirement already satisfied: plotly>=5.10.0 in /usr/local/lib/python3.11/dist-packages (from copulas) (5.24.1)\n",
            "Requirement already satisfied: scipy>=1.9.2 in /usr/local/lib/python3.11/dist-packages (from copulas) (1.15.3)\n",
            "Requirement already satisfied: python-dateutil>=2.8.2 in /usr/local/lib/python3.11/dist-packages (from pandas>=1.5.0->copulas) (2.9.0.post0)\n",
            "Requirement already satisfied: pytz>=2020.1 in /usr/local/lib/python3.11/dist-packages (from pandas>=1.5.0->copulas) (2025.2)\n",
            "Requirement already satisfied: tzdata>=2022.7 in /usr/local/lib/python3.11/dist-packages (from pandas>=1.5.0->copulas) (2025.2)\n",
            "Requirement already satisfied: tenacity>=6.2.0 in /usr/local/lib/python3.11/dist-packages (from plotly>=5.10.0->copulas) (9.1.2)\n",
            "Requirement already satisfied: packaging in /usr/local/lib/python3.11/dist-packages (from plotly>=5.10.0->copulas) (24.2)\n",
            "Requirement already satisfied: six>=1.5 in /usr/local/lib/python3.11/dist-packages (from python-dateutil>=2.8.2->pandas>=1.5.0->copulas) (1.17.0)\n"
          ]
        }
      ]
    },
    {
      "cell_type": "code",
      "source": [
        "from copulas.visualization import scatter_2d, dist_1d,compare_2d\n",
        "from copulas.multivariate import GaussianMultivariate\n",
        "from copulas.univariate import Univariate"
      ],
      "metadata": {
        "id": "b2A-KKS1mKjx"
      },
      "execution_count": 11,
      "outputs": []
    },
    {
      "cell_type": "code",
      "source": [
        "copula = GaussianMultivariate()\n",
        "copula.fit(stocks)"
      ],
      "metadata": {
        "colab": {
          "base_uri": "https://localhost:8080/"
        },
        "id": "_Ge3SF6umLi3",
        "outputId": "71954fb3-7c19-4c31-9e6e-b009db11d320"
      },
      "execution_count": 12,
      "outputs": [
        {
          "output_type": "stream",
          "name": "stderr",
          "text": [
            "/usr/local/lib/python3.11/dist-packages/scipy/stats/_continuous_distns.py:795: RuntimeWarning: invalid value encountered in sqrt\n",
            "  sk = 2*(b-a)*np.sqrt(a + b + 1) / (a + b + 2) / np.sqrt(a*b)\n",
            "/usr/local/lib/python3.11/dist-packages/scipy/stats/_continuous_distns.py:800: RuntimeWarning: The iteration is not making good progress, as measured by the \n",
            " improvement from the last ten iterations.\n",
            "  a, b = optimize.fsolve(func, (1.0, 1.0))\n",
            "/usr/local/lib/python3.11/dist-packages/scipy/stats/_continuous_distns.py:795: RuntimeWarning: invalid value encountered in sqrt\n",
            "  sk = 2*(b-a)*np.sqrt(a + b + 1) / (a + b + 2) / np.sqrt(a*b)\n",
            "/usr/local/lib/python3.11/dist-packages/scipy/stats/_continuous_distns.py:800: RuntimeWarning: The iteration is not making good progress, as measured by the \n",
            " improvement from the last ten iterations.\n",
            "  a, b = optimize.fsolve(func, (1.0, 1.0))\n"
          ]
        }
      ]
    },
    {
      "cell_type": "code",
      "source": [
        "synthetic = copula.sample(len(stocks))"
      ],
      "metadata": {
        "id": "aH-ZlCiRm_fJ"
      },
      "execution_count": 13,
      "outputs": []
    },
    {
      "cell_type": "code",
      "source": [
        "compare_2d(stocks, synthetic)"
      ],
      "metadata": {
        "colab": {
          "base_uri": "https://localhost:8080/",
          "height": 542
        },
        "id": "pjbzEK_rnHC4",
        "outputId": "b76f94d8-344a-4063-96e3-2f1319ce1935"
      },
      "execution_count": 15,
      "outputs": [
        {
          "output_type": "display_data",
          "data": {
            "text/html": [
              "<html>\n",
              "<head><meta charset=\"utf-8\" /></head>\n",
              "<body>\n",
              "    <div>            <script src=\"https://cdnjs.cloudflare.com/ajax/libs/mathjax/2.7.5/MathJax.js?config=TeX-AMS-MML_SVG\"></script><script type=\"text/javascript\">if (window.MathJax && window.MathJax.Hub && window.MathJax.Hub.Config) {window.MathJax.Hub.Config({SVG: {font: \"STIX-Web\"}});}</script>                <script type=\"text/javascript\">window.PlotlyConfig = {MathJaxConfig: 'local'};</script>\n",
              "        <script charset=\"utf-8\" src=\"https://cdn.plot.ly/plotly-2.35.2.min.js\"></script>                <div id=\"e6865e41-6210-4dc5-881c-e32218458f6c\" class=\"plotly-graph-div\" style=\"height:525px; width:100%;\"></div>            <script type=\"text/javascript\">                                    window.PLOTLYENV=window.PLOTLYENV || {};                                    if (document.getElementById(\"e6865e41-6210-4dc5-881c-e32218458f6c\")) {                    Plotly.newPlot(                        \"e6865e41-6210-4dc5-881c-e32218458f6c\",                        [{\"hovertemplate\":\"Data=Real\\u003cbr\\u003eGAZP=%{x}\\u003cbr\\u003eBZ=%{y}\\u003cextra\\u003e\\u003c\\u002fextra\\u003e\",\"legendgroup\":\"Real\",\"marker\":{\"color\":\"#000036\",\"symbol\":\"circle\"},\"mode\":\"markers\",\"name\":\"Real\",\"orientation\":\"v\",\"showlegend\":true,\"x\":[-0.011080798596813324,0.0051735816223326125,0.005780546507531348,-0.01731396069925406,-0.03858931906106822,-0.0020804197036969896,-0.0332950371966696,-0.010073584420809745,0.0003892716776165983,0.003263913373169558,-0.031205746972950088,0.012172472186729344,0.0077034564873592615,-0.00867057455113418,-0.0033922978981406615,-0.006656409024240695,-0.012429872966766453,0.016744423046718637,-0.0293893250781867,-0.03597230911927429,0.018018505502678472,-0.004495943938427338,0.011371711067029722,0.017502710032107238,-0.011605546120308396,0.002504427234138795,0.038777071481715275,-0.00987426401573721,-0.022580168675407464,0.036724226479402766,-0.029312237995632984,-0.05161155287978225,0.03289660470467126,-0.017398947608316284,0.04475790064149354,-0.002247191956905148,0.04208746376383132,0.00820902994953343,0.018519047767236785,0.01964612670752075,-0.011992933354837199,-0.0007404665277235267,0.010706659093350446,0.006849599622677616,-0.00949660438244404,-0.004554087567250953,0.01133045917144937,0.008818808604254436,-0.013179506995459889,0.0038943892197806917,0.013734783812869189,-0.004993672267819882,-0.017402552295646245,-0.009765394976804842,-0.0034901280767538623,-0.01982169779983245,-0.040271678581135006,-0.014448662032751969,-0.018546318990239286,0.0003213109514357271,0.04522318574515083,-0.057668796525116583,-0.026672611216829623,0.015305161756723251,0.010559760215001823,-0.006159850892393237,-0.012878478058316212,-0.014853778362941661,-0.023628387104249526,0.009468418803628253,0.011191555768903072,-0.007501665968787208,0.0004909581965897303,0.0013080446600151063,0.06934570528288475,-0.031040107837515762,0.014003674716403403,0.022675076232517632,-0.014431737356142449,-0.03048721193666193,0.013158579275217797,-0.004116926358268103,0.0024688599679789647,-0.009912223531738817,0.0013574662718003339,-0.006578224923771359,0.015420216037551171,0.02411532370135472,-0.008708752760993477,-0.002796998732038425,0.001983763186838239,-0.010922617816080837,-0.004760496940323655,-0.008385793376274542,0.008770587237157734,-0.017376423113716122,-0.0029121521955906005,0.0173470459791929,0.02416781096565046,0.026923552652401206,0.0028000902533538152,-0.021663610675702216,-0.019122184094327643,-0.007494073905529142,0.01328421678807068,-0.02851613039942258,-0.029107075454470888,0.017968693542815828,-0.03802239838142896,-0.025352741871911277,0.04198812655099893,0.007342544460687606,0.03271205075143868,-0.01972514845754869,-0.05221221290253464,0.01146910342794527,-0.0141613626423851,-0.020366599727749346,0.0040024416086499315,-0.01805008262190011,-0.0021242705810813334,-0.013427992661129373,0.0073382893981159825,-0.008271038276487452,0.07269386553991986,0.016152763702456774,0.007067722211788308,-0.042932498682865194,0.020670302195394896,0.01149524871655938,0.025024509844629783,-0.007582207181287437,0.025029582013134544,0.006615559731680598,-0.008586866908229851,0.007354312827954956,0.004271190479969711,0.02413656538108455,-0.0035689611428955104,0.024648120094023618,0.0026305514440334576,-0.0201837068446995,0.02603919344084904,0.01083464906098719,-0.0005636184452431081,0.003573559490864575,0.0782063181122492,0.07307250739643578,0.010645396864812362,-0.05040212638724295,0.02907097798473668,-0.01861184719459885,-0.011101860661222318,-0.011696039763191557,-0.033921245049846505,-0.01524020448521135,0.02470724370343369,0.027159429130939827,-0.017224307287588836,0.011515772252519874,-0.007953828689150733,-0.003923755436747278,-0.012577296674828098,-0.001070154680014035,0.013823471538944254,-0.024675244594376977,-0.001128098679825662,-0.0014267881856877551,-0.008843798304325468,-0.0006078658019523786,-0.01599739917049625,-0.04163325955866526,-0.0653418496239695,-0.05785715955927806,0.01250332481456784,-0.03426568932373453,-0.060039465270365966,-0.02958030442381787,0.046870436329702336,0.00007826869647509227,0.03944043483000925,-0.0034136198519245653,0.003034903695153801,0.03564498051498255,0.03845411051645886,-0.011235293995848217,0.006326714884438367,0.04034228976516818,-0.026578319738105094,0.004278939469792853,0.019208801757444327,0.015777856932401413,0.02121720326438581],\"xaxis\":\"x\",\"y\":[-0.007940368957129351,0.0013277809905343219,0.006492748551267802,0.006688988150796327,-0.014196581067372094,-0.009618385468461277,-0.002817766029765245,0.007090494253808366,0.01861184719459974,-0.012728417844362738,-0.019340624614091695,-0.006858569445157947,-0.013137746921577431,0.019642457057755358,0.01714183642542544,-0.006897011477001058,0.0032888756121050022,0.005823139104175645,0.01107457124482103,-0.0009377564864916366,0.005146812156833214,-0.008082981980146897,-0.013914284704244828,0.0037607283717084883,0.0125890460838054,-0.017410032550949417,-0.0004617871243457472,0.005412577272134733,0.005497665891336823,-0.007912431625184624,-0.00879100779590214,0.005518065072930511,0.002222093189640617,-0.0038625903937381523,-0.01329869991043875,0.018709841216363543,-0.005411141305924794,-0.02653436419123878,-0.009159250695911503,0.0011035498636946528,0.009513427037873612,-0.022464579384950945,-0.013524822225743804,0.03624037722829154,-0.01908123807542772,-0.03022452290872657,-0.0174529045835774,0.03155570242233008,0.0049527055330713665,0.006565680151751074,-0.013128217506157114,-0.011677151319068102,0.011677151319068102,-0.017315910699240433,-0.0073600952046000145,-0.014227219028318139,0.013579004835658992,0.024468011138375267,-0.0179961418927439,-0.017560933879614993,0.01893756885079334,-0.037071947866074595,-0.047161057102640846,-0.012832940617608202,0.0010985993964034435,-0.01926201034852948,-0.03107155761609537,0.01438463883108021,0.021127053733367873,-0.0006924728481125797,0.010628251020138535,-0.013371736965889447,0.02843793532053418,-0.002406096602586949,0.010705307643866568,-0.019624285686346887,-0.03101771852841928,0.01431872660038902,0.03373024070649855,0.0025481137638836415,0.04222470701756098,0.00333290912292572,-0.046672614809978974,-0.008819771828822986,0.0325544575013037,-0.006452043383205819,-0.0072077194047368565,-0.0026827648551810412,0.00013430931455271633,-0.01747656754863236,0.02097465176505864,-0.006366069244991834,-0.008283280494151946,0.01808079035047161,-0.009059926770047078,0.022292373465715443,0.014005259853448138,-0.015238390104932442,-0.005043142739046047,0.005440204487364042,-0.022346551078472388,-0.0015310741386089788,0.003337508312879045,0.005261712499458504,-0.018960556857620325,0.0021851961713705848,-0.002732242136872287,0.017224267959475625,0.012161860561915816,-0.002465416945271137,0.0005483959556142892,0.0028741551298621104,-0.014870162479451388,0.024173680899643557,-0.016280542918279295,-0.004562114776446968,-0.01564059254107253,0.002222840592946085,0.021689251044930025,-0.0031281902421875785,0.012723506783474114,-0.00801471382529062,-0.004510977507964142,-0.0043938008349959645,0.004256786379757571,0.009412797142562823,0.00964091926641153,0.012775561585016249,0.03299872628945888,-0.007195168121027606,0.0266584179292213,-0.01379332213233564,-0.007773498333380147,-0.005529736347771319,-0.004800413462928255,-0.014155691327180087,0.007294165042265099,0.006720976572720083,-0.008928053093439914,0.0014286644419758687,-0.007163820933635101,0.007258362450323297,-0.018044804336327047,-0.005639112687769732,0.005639112687769732,0.009022617599637961,-0.024777229552217506,0.005057910423410306,-0.009069147249863185,0.005956732154330346,0.004739969374838893,0.006415733954382219,-0.03142036158969397,-0.024729319083586887,-0.003838250085681061,0.014588846924419308,-0.010887423821232645,-0.005048391033335875,-0.025198856273137338,0.0008646779613536992,0.014728227911048997,0.01121829685380149,0.014059735968625198,-0.010775660767435191,0.007102302582066677,-0.0072161614870891455,0.0062287857104195155,0.019564626282168263,-0.002077994790825599,0.001915185263920094,0.011279592308231834,0.0006754475096375501,-0.009089121786671761,-0.0026806074220742104,-0.015418211839732798,-0.04973786674359282,-0.055213846019666946,-0.04350582895566113,0.06441680000054628,-0.03593943172588787,0.018595738601201894,0.0004627130490515441,0.01848650920019068,0.026735966318234716,0.02010641864400231,-0.025083429143846203,0.005428240108162008,0.006146485132917157,-0.02467357240606205,-0.04813464136654222,0.031380250901090534,-0.016711673098455115,0.027752668529155144],\"yaxis\":\"y\",\"type\":\"scatter\"},{\"hovertemplate\":\"Data=Synthetic\\u003cbr\\u003eGAZP=%{x}\\u003cbr\\u003eBZ=%{y}\\u003cextra\\u003e\\u003c\\u002fextra\\u003e\",\"legendgroup\":\"Synthetic\",\"marker\":{\"color\":\"#01E0C9\",\"symbol\":\"diamond\"},\"mode\":\"markers\",\"name\":\"Synthetic\",\"orientation\":\"v\",\"showlegend\":true,\"x\":[-0.007451630005679261,-0.021471462844273488,-0.008327950037013886,-0.026249516223377612,-0.01594272787703364,0.01072501908739256,-0.016699660140199173,0.013611151541528848,0.003751312447491993,-0.07250843240185703,0.09177007939505029,-0.009024023570982864,-0.031205812147503998,-0.00280263869262407,-0.004908660360116902,-0.0012576338053152853,0.009800265329927903,0.006518780142544317,0.004934743402818949,0.0026414222142473083,-0.03830118404765075,-0.027323460074067323,-0.00018103623041165761,-0.0415256198018934,-0.01366118832884793,0.008028239104841982,-0.024883727165774073,0.02382856600341121,-0.0385807618160935,-0.025213046951819317,-0.029433896170715516,0.017620400283907538,0.025505246813525364,0.015906503634613812,0.012352130264572641,-0.012819211838823917,-0.016293825250384763,-0.02275997227084654,0.009846267676849402,-0.017854773393736287,-0.003908099831584027,-0.01699473418342249,0.006534465503246125,-0.05161066980823825,-0.019274480119089703,-0.008467133029474074,0.05101932141937984,-0.00664149432200657,0.0011963248310857383,0.002022316942995047,-0.0694845426886017,-0.010084404465721331,0.015307950967077846,-0.0049721223434820525,0.017928211522171278,0.003698137236577328,-0.000292400476880456,0.003391522385109107,0.032175573373025845,0.033247173343451425,-0.008320990598200375,-0.016838720279146794,0.004799811021544715,-0.01005647220900742,0.004947443984753399,-0.048940088092767536,-0.02954272191047788,-0.007290684558143268,-0.012345681253961238,0.03070813841174923,-0.023453161673153925,-0.08885328935558454,-0.044447597232733366,-0.004494056201760644,-0.02092020682040751,-0.025203838344428464,0.027162481368367044,-0.006452805560576935,0.010078062514656604,-0.0091507198160754,0.001240633014805832,0.011813563170127505,-0.021831795444706162,0.0183812549804394,0.07355960694422173,0.03769411415513995,0.017900349943900197,-0.03764546647335589,-0.04463004321899813,0.0022579278189924805,0.008155085707737878,-0.0324141398376741,-0.017256177557071053,0.01045922712776316,0.024725198073957854,0.0073122893239998795,0.028591373570501184,-0.04670825409348072,0.013630413674121818,-0.007223997516633847,-0.006959150572086379,0.003658038799082092,-0.0150567126315931,0.0032035888888676386,0.016518664136640555,-0.017302679326406032,0.004873065092171235,0.02353647806385005,-0.03900218120770858,0.0356924395418021,-0.010563093699015758,-0.009891277401139667,-0.03731444664342366,0.02558872460596636,0.012049642695715942,0.025011776324473826,0.03378589652665587,-0.0006702559278792106,0.0001054721311840865,0.039322860951975826,-0.015633408504318512,-0.02046624131944371,0.030725544980595255,0.020783271001086703,-0.009681214817555319,0.00623173916309892,-0.01036295922629061,0.014851566641411965,-0.02593460037115877,0.014765541515381755,-0.017171302739999988,-0.021108340193406135,0.03156084645970281,-0.014822262762824095,-0.021420864992459716,0.02506427648064291,-0.004135832303318439,0.018304760490578994,-0.02065738403241938,0.0035443127378768056,-0.01094540151885202,-0.014111551480002503,-0.031914783796113816,-0.054007448999858966,0.018023098549929402,0.02318042796861152,-0.04237332100930581,0.010414451373775967,0.03576811496543344,0.015412471150311906,0.021499639819963244,0.004434803043719924,0.015691436570752785,-0.019492571414732075,-0.005579329195931789,0.019357463990506626,-0.0385376891691318,-0.0020456888397438304,0.013116194710093648,-0.016998021784002323,-0.026814997124727877,0.008861173549789252,-0.025684165310638385,-0.019668204948860044,0.0019900430422365644,0.028086170293779526,-0.02073856822560386,-0.007757432446113908,-0.08395324740385018,0.001201875007441061,-0.020728415062418726,0.03470769551649219,-0.0018563064907023022,0.015598759550089752,-0.03529075649125912,0.011205248638928796,0.017768276185313483,-0.010534605305379151,0.016858499735275215,-0.0013250261424258255,-0.022351213003887916,0.020936094414321732,0.004931549293378848,-0.045593031359647894,0.026586641914548164,0.04063147235611024,-0.03857267745394055,0.0008678322419152496,-0.011635939071588709,-0.017135559497995983,-0.006041616850241472,0.0005050954459384326,0.0852099036332978],\"xaxis\":\"x\",\"y\":[0.008416809434511365,-0.0086266777653393,-0.00281401440410969,-0.01691208454303115,-0.00835740187798782,0.008557950751622221,-0.006389132983491011,0.01063819155010681,0.0007995288606489131,-0.0006244662003383982,0.00024758980827612625,-0.019546965880573912,0.0021357861472723464,-0.0006824018472767154,-0.002548424230124111,0.023357765428393094,-0.004628387707080051,0.015761530298728288,-0.00833661475611123,-0.011162099379084788,-0.008323565982385001,0.011347071712989026,0.005649841440970731,0.005915812404463601,-0.0008213551399807298,-0.027597542597137894,-0.01844232249814525,0.0018092846916685484,-0.009343511092870137,0.0064478738999508844,0.014842167586736793,0.008298638563728365,-0.001467622097052896,0.021588810627314083,-0.035290369837627344,0.03383784416132954,-0.014611426248330773,-0.024668275538675243,-0.008976079193272172,-0.01324750303955825,0.008997196058080633,0.007488839911072815,0.01310980950617109,-0.01162967859829816,-0.005397438762680453,0.006613561292005561,-0.01269118189009791,0.016113429714487395,0.0014247464592262934,0.025251243318363762,-0.0003760152525014008,-0.05013220352675666,-0.011780492331847558,0.047902495075290194,-0.011481419604210397,0.007208187626946758,-0.014730092184008106,0.012099621943857592,0.006567123903804432,-0.005198522335950348,0.03385377105996359,0.006918308513008509,-0.0044606390611693185,0.017318554150304834,0.021841310858683523,-0.010372995166216748,0.013116638133522913,-0.011200947274205824,-0.008800999241454005,0.01046699586519003,-0.0013459477491823148,-0.013034514429650423,-0.010504341759728779,0.00738337394128972,0.009752534977753389,-0.005079736533193905,0.010655346308397139,0.015155405882524233,-0.005462859226528583,-0.004107228287066028,0.0176902927452154,0.000730345081046903,-0.029378944552590647,0.02824519125977053,0.016842846424091368,-0.012190918366801692,0.029210195055053425,0.015302417035284935,0.004460007288746955,0.014061482322866532,-0.02579090413550362,-0.021287088641560238,-0.008811620162476509,0.010870178816637597,0.020087389016783176,0.018354158124689216,-0.009300272255533386,0.013644164379741596,-0.006237067011177018,-0.00491881785266277,-0.00001100449817757255,-0.02434215225298022,-0.004264804778395458,0.00257778610431682,0.009476030541079587,-0.007585616142764063,-0.009645475176454844,-0.029799113114179796,-0.0013652541941808025,-0.002280128348510268,-0.03170671012576592,-0.008041708713221265,-0.027497668809024614,-0.012129637942219681,-0.016146645280475606,-0.0010236940684397304,0.0058793946988324845,-0.004289344616225294,0.0180484620052583,-0.0022192563067328294,-0.02906217877010544,0.01831233765867597,0.02713717053509943,0.00906727991478314,-0.011506744663830063,0.025937612915847126,0.010509795069377445,-0.014496589360696002,0.01195683371071416,0.03459679398704678,-0.016790357055338205,-0.00034816706377718484,0.020520673586006625,-0.0013887090339706992,-0.0014730150184519898,0.011875597711400624,-0.010016023049181285,0.010265676456968775,0.006500861874141199,-0.0028938031768044863,0.004518263355593624,-0.00524730285369962,-0.06811011018370176,-0.004992455926064542,0.010708281286517176,-0.012079432519201573,-0.022556967756908932,-0.05494576895006229,0.015701611226552458,-0.008750287909631447,0.03810481654890416,0.0029023209775286937,-0.024950311542241303,-0.03875875352915742,0.02465765880940417,-0.0037701513121892218,-0.01351972270280029,0.006153313068288696,0.008096637525081987,0.06737800786085867,0.00257820982126136,0.03074088774480851,-0.02119580141824207,-0.01008939376934278,0.0025825892877231675,0.008001116020429239,0.0028197184289985443,-0.0028174918470143975,0.022731559121658744,0.014044404456376837,-0.0072055177305683175,-0.0020953152911029707,-0.007893581062939626,-0.010043384947916349,0.004774439974676239,-0.005736408560739124,-0.034363240754517466,0.014722038195560791,0.01673392115170048,0.005990332361143439,-0.024095554919536282,0.00748387447657323,-0.0001020417290577729,-0.010992463294558122,0.018603786329333606,0.03086193981113246,-0.020460642821284604,0.007434245771890996,-0.019985378689091816,0.009789095135361341,-0.0021448494259611386,-0.001571403556315507,-0.024348130932603646],\"yaxis\":\"y\",\"type\":\"scatter\"}],                        {\"template\":{\"data\":{\"histogram2dcontour\":[{\"type\":\"histogram2dcontour\",\"colorbar\":{\"outlinewidth\":0,\"ticks\":\"\"},\"colorscale\":[[0.0,\"#0d0887\"],[0.1111111111111111,\"#46039f\"],[0.2222222222222222,\"#7201a8\"],[0.3333333333333333,\"#9c179e\"],[0.4444444444444444,\"#bd3786\"],[0.5555555555555556,\"#d8576b\"],[0.6666666666666666,\"#ed7953\"],[0.7777777777777778,\"#fb9f3a\"],[0.8888888888888888,\"#fdca26\"],[1.0,\"#f0f921\"]]}],\"choropleth\":[{\"type\":\"choropleth\",\"colorbar\":{\"outlinewidth\":0,\"ticks\":\"\"}}],\"histogram2d\":[{\"type\":\"histogram2d\",\"colorbar\":{\"outlinewidth\":0,\"ticks\":\"\"},\"colorscale\":[[0.0,\"#0d0887\"],[0.1111111111111111,\"#46039f\"],[0.2222222222222222,\"#7201a8\"],[0.3333333333333333,\"#9c179e\"],[0.4444444444444444,\"#bd3786\"],[0.5555555555555556,\"#d8576b\"],[0.6666666666666666,\"#ed7953\"],[0.7777777777777778,\"#fb9f3a\"],[0.8888888888888888,\"#fdca26\"],[1.0,\"#f0f921\"]]}],\"heatmap\":[{\"type\":\"heatmap\",\"colorbar\":{\"outlinewidth\":0,\"ticks\":\"\"},\"colorscale\":[[0.0,\"#0d0887\"],[0.1111111111111111,\"#46039f\"],[0.2222222222222222,\"#7201a8\"],[0.3333333333333333,\"#9c179e\"],[0.4444444444444444,\"#bd3786\"],[0.5555555555555556,\"#d8576b\"],[0.6666666666666666,\"#ed7953\"],[0.7777777777777778,\"#fb9f3a\"],[0.8888888888888888,\"#fdca26\"],[1.0,\"#f0f921\"]]}],\"heatmapgl\":[{\"type\":\"heatmapgl\",\"colorbar\":{\"outlinewidth\":0,\"ticks\":\"\"},\"colorscale\":[[0.0,\"#0d0887\"],[0.1111111111111111,\"#46039f\"],[0.2222222222222222,\"#7201a8\"],[0.3333333333333333,\"#9c179e\"],[0.4444444444444444,\"#bd3786\"],[0.5555555555555556,\"#d8576b\"],[0.6666666666666666,\"#ed7953\"],[0.7777777777777778,\"#fb9f3a\"],[0.8888888888888888,\"#fdca26\"],[1.0,\"#f0f921\"]]}],\"contourcarpet\":[{\"type\":\"contourcarpet\",\"colorbar\":{\"outlinewidth\":0,\"ticks\":\"\"}}],\"contour\":[{\"type\":\"contour\",\"colorbar\":{\"outlinewidth\":0,\"ticks\":\"\"},\"colorscale\":[[0.0,\"#0d0887\"],[0.1111111111111111,\"#46039f\"],[0.2222222222222222,\"#7201a8\"],[0.3333333333333333,\"#9c179e\"],[0.4444444444444444,\"#bd3786\"],[0.5555555555555556,\"#d8576b\"],[0.6666666666666666,\"#ed7953\"],[0.7777777777777778,\"#fb9f3a\"],[0.8888888888888888,\"#fdca26\"],[1.0,\"#f0f921\"]]}],\"surface\":[{\"type\":\"surface\",\"colorbar\":{\"outlinewidth\":0,\"ticks\":\"\"},\"colorscale\":[[0.0,\"#0d0887\"],[0.1111111111111111,\"#46039f\"],[0.2222222222222222,\"#7201a8\"],[0.3333333333333333,\"#9c179e\"],[0.4444444444444444,\"#bd3786\"],[0.5555555555555556,\"#d8576b\"],[0.6666666666666666,\"#ed7953\"],[0.7777777777777778,\"#fb9f3a\"],[0.8888888888888888,\"#fdca26\"],[1.0,\"#f0f921\"]]}],\"mesh3d\":[{\"type\":\"mesh3d\",\"colorbar\":{\"outlinewidth\":0,\"ticks\":\"\"}}],\"scatter\":[{\"fillpattern\":{\"fillmode\":\"overlay\",\"size\":10,\"solidity\":0.2},\"type\":\"scatter\"}],\"parcoords\":[{\"type\":\"parcoords\",\"line\":{\"colorbar\":{\"outlinewidth\":0,\"ticks\":\"\"}}}],\"scatterpolargl\":[{\"type\":\"scatterpolargl\",\"marker\":{\"colorbar\":{\"outlinewidth\":0,\"ticks\":\"\"}}}],\"bar\":[{\"error_x\":{\"color\":\"#2a3f5f\"},\"error_y\":{\"color\":\"#2a3f5f\"},\"marker\":{\"line\":{\"color\":\"#E5ECF6\",\"width\":0.5},\"pattern\":{\"fillmode\":\"overlay\",\"size\":10,\"solidity\":0.2}},\"type\":\"bar\"}],\"scattergeo\":[{\"type\":\"scattergeo\",\"marker\":{\"colorbar\":{\"outlinewidth\":0,\"ticks\":\"\"}}}],\"scatterpolar\":[{\"type\":\"scatterpolar\",\"marker\":{\"colorbar\":{\"outlinewidth\":0,\"ticks\":\"\"}}}],\"histogram\":[{\"marker\":{\"pattern\":{\"fillmode\":\"overlay\",\"size\":10,\"solidity\":0.2}},\"type\":\"histogram\"}],\"scattergl\":[{\"type\":\"scattergl\",\"marker\":{\"colorbar\":{\"outlinewidth\":0,\"ticks\":\"\"}}}],\"scatter3d\":[{\"type\":\"scatter3d\",\"line\":{\"colorbar\":{\"outlinewidth\":0,\"ticks\":\"\"}},\"marker\":{\"colorbar\":{\"outlinewidth\":0,\"ticks\":\"\"}}}],\"scattermapbox\":[{\"type\":\"scattermapbox\",\"marker\":{\"colorbar\":{\"outlinewidth\":0,\"ticks\":\"\"}}}],\"scatterternary\":[{\"type\":\"scatterternary\",\"marker\":{\"colorbar\":{\"outlinewidth\":0,\"ticks\":\"\"}}}],\"scattercarpet\":[{\"type\":\"scattercarpet\",\"marker\":{\"colorbar\":{\"outlinewidth\":0,\"ticks\":\"\"}}}],\"carpet\":[{\"aaxis\":{\"endlinecolor\":\"#2a3f5f\",\"gridcolor\":\"white\",\"linecolor\":\"white\",\"minorgridcolor\":\"white\",\"startlinecolor\":\"#2a3f5f\"},\"baxis\":{\"endlinecolor\":\"#2a3f5f\",\"gridcolor\":\"white\",\"linecolor\":\"white\",\"minorgridcolor\":\"white\",\"startlinecolor\":\"#2a3f5f\"},\"type\":\"carpet\"}],\"table\":[{\"cells\":{\"fill\":{\"color\":\"#EBF0F8\"},\"line\":{\"color\":\"white\"}},\"header\":{\"fill\":{\"color\":\"#C8D4E3\"},\"line\":{\"color\":\"white\"}},\"type\":\"table\"}],\"barpolar\":[{\"marker\":{\"line\":{\"color\":\"#E5ECF6\",\"width\":0.5},\"pattern\":{\"fillmode\":\"overlay\",\"size\":10,\"solidity\":0.2}},\"type\":\"barpolar\"}],\"pie\":[{\"automargin\":true,\"type\":\"pie\"}]},\"layout\":{\"autotypenumbers\":\"strict\",\"colorway\":[\"#636efa\",\"#EF553B\",\"#00cc96\",\"#ab63fa\",\"#FFA15A\",\"#19d3f3\",\"#FF6692\",\"#B6E880\",\"#FF97FF\",\"#FECB52\"],\"font\":{\"color\":\"#2a3f5f\"},\"hovermode\":\"closest\",\"hoverlabel\":{\"align\":\"left\"},\"paper_bgcolor\":\"white\",\"plot_bgcolor\":\"#E5ECF6\",\"polar\":{\"bgcolor\":\"#E5ECF6\",\"angularaxis\":{\"gridcolor\":\"white\",\"linecolor\":\"white\",\"ticks\":\"\"},\"radialaxis\":{\"gridcolor\":\"white\",\"linecolor\":\"white\",\"ticks\":\"\"}},\"ternary\":{\"bgcolor\":\"#E5ECF6\",\"aaxis\":{\"gridcolor\":\"white\",\"linecolor\":\"white\",\"ticks\":\"\"},\"baxis\":{\"gridcolor\":\"white\",\"linecolor\":\"white\",\"ticks\":\"\"},\"caxis\":{\"gridcolor\":\"white\",\"linecolor\":\"white\",\"ticks\":\"\"}},\"coloraxis\":{\"colorbar\":{\"outlinewidth\":0,\"ticks\":\"\"}},\"colorscale\":{\"sequential\":[[0.0,\"#0d0887\"],[0.1111111111111111,\"#46039f\"],[0.2222222222222222,\"#7201a8\"],[0.3333333333333333,\"#9c179e\"],[0.4444444444444444,\"#bd3786\"],[0.5555555555555556,\"#d8576b\"],[0.6666666666666666,\"#ed7953\"],[0.7777777777777778,\"#fb9f3a\"],[0.8888888888888888,\"#fdca26\"],[1.0,\"#f0f921\"]],\"sequentialminus\":[[0.0,\"#0d0887\"],[0.1111111111111111,\"#46039f\"],[0.2222222222222222,\"#7201a8\"],[0.3333333333333333,\"#9c179e\"],[0.4444444444444444,\"#bd3786\"],[0.5555555555555556,\"#d8576b\"],[0.6666666666666666,\"#ed7953\"],[0.7777777777777778,\"#fb9f3a\"],[0.8888888888888888,\"#fdca26\"],[1.0,\"#f0f921\"]],\"diverging\":[[0,\"#8e0152\"],[0.1,\"#c51b7d\"],[0.2,\"#de77ae\"],[0.3,\"#f1b6da\"],[0.4,\"#fde0ef\"],[0.5,\"#f7f7f7\"],[0.6,\"#e6f5d0\"],[0.7,\"#b8e186\"],[0.8,\"#7fbc41\"],[0.9,\"#4d9221\"],[1,\"#276419\"]]},\"xaxis\":{\"gridcolor\":\"white\",\"linecolor\":\"white\",\"ticks\":\"\",\"title\":{\"standoff\":15},\"zerolinecolor\":\"white\",\"automargin\":true,\"zerolinewidth\":2},\"yaxis\":{\"gridcolor\":\"white\",\"linecolor\":\"white\",\"ticks\":\"\",\"title\":{\"standoff\":15},\"zerolinecolor\":\"white\",\"automargin\":true,\"zerolinewidth\":2},\"scene\":{\"xaxis\":{\"backgroundcolor\":\"#E5ECF6\",\"gridcolor\":\"white\",\"linecolor\":\"white\",\"showbackground\":true,\"ticks\":\"\",\"zerolinecolor\":\"white\",\"gridwidth\":2},\"yaxis\":{\"backgroundcolor\":\"#E5ECF6\",\"gridcolor\":\"white\",\"linecolor\":\"white\",\"showbackground\":true,\"ticks\":\"\",\"zerolinecolor\":\"white\",\"gridwidth\":2},\"zaxis\":{\"backgroundcolor\":\"#E5ECF6\",\"gridcolor\":\"white\",\"linecolor\":\"white\",\"showbackground\":true,\"ticks\":\"\",\"zerolinecolor\":\"white\",\"gridwidth\":2}},\"shapedefaults\":{\"line\":{\"color\":\"#2a3f5f\"}},\"annotationdefaults\":{\"arrowcolor\":\"#2a3f5f\",\"arrowhead\":0,\"arrowwidth\":1},\"geo\":{\"bgcolor\":\"white\",\"landcolor\":\"#E5ECF6\",\"subunitcolor\":\"white\",\"showland\":true,\"showlakes\":true,\"lakecolor\":\"white\"},\"title\":{\"x\":0.05},\"mapbox\":{\"style\":\"light\"}}},\"xaxis\":{\"anchor\":\"y\",\"domain\":[0.0,1.0],\"title\":{\"text\":\"GAZP\"}},\"yaxis\":{\"anchor\":\"x\",\"domain\":[0.0,1.0],\"title\":{\"text\":\"BZ\"}},\"legend\":{\"title\":{\"text\":\"Data\"},\"tracegroupgap\":0},\"margin\":{\"t\":60},\"font\":{\"size\":18},\"title\":{\"text\":\"Real vs. Synthetic Data for columns 'GAZP' and 'BZ'\"},\"plot_bgcolor\":\"#F5F5F8\",\"showlegend\":true},                        {\"responsive\": true}                    ).then(function(){\n",
              "                            \n",
              "var gd = document.getElementById('e6865e41-6210-4dc5-881c-e32218458f6c');\n",
              "var x = new MutationObserver(function (mutations, observer) {{\n",
              "        var display = window.getComputedStyle(gd).display;\n",
              "        if (!display || display === 'none') {{\n",
              "            console.log([gd, 'removed!']);\n",
              "            Plotly.purge(gd);\n",
              "            observer.disconnect();\n",
              "        }}\n",
              "}});\n",
              "\n",
              "// Listen for the removal of the full notebook cells\n",
              "var notebookContainer = gd.closest('#notebook-container');\n",
              "if (notebookContainer) {{\n",
              "    x.observe(notebookContainer, {childList: true});\n",
              "}}\n",
              "\n",
              "// Listen for the clearing of the current output cell\n",
              "var outputEl = gd.closest('.output');\n",
              "if (outputEl) {{\n",
              "    x.observe(outputEl, {childList: true});\n",
              "}}\n",
              "\n",
              "                        })                };                            </script>        </div>\n",
              "</body>\n",
              "</html>"
            ]
          },
          "metadata": {}
        }
      ]
    }
  ]
}