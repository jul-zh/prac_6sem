{
  "cells": [
    {
      "cell_type": "markdown",
      "metadata": {
        "id": "IIGpOsU1KSCu"
      },
      "source": [
        "## Постановка задачи\n",
        "Поставлена задача выяснить с каким мировым индексом или ценами на конкретный товар связан интересующий Вас финансовый инструмент. При сравнении самих значений цен Вы получаете зависимость как бы на макро уровне. Куда интересней определить связь активов на микро уровне, в частности связи доходностей. Поэтому советую перейти к доходностям активов,например так\n",
        "$$ r_t= ln(\\frac{S_t}{S_{t-1}})$$\n",
        "Но самое главное не забыть синхронизировать данные по времени. Если в какой то день данных нет, то лучше исключить это число для всех инструментов."
      ]
    },
    {
      "cell_type": "markdown",
      "metadata": {
        "id": "o1xtdzyyKSCx"
      },
      "source": [
        "Номер Вашего варианта соответствует номеру в группе\n",
        "\n",
        "У 11 номера в таблице - 1 вариант, у 12 - второй и так далее.\n",
        "\n",
        "Все выводы должны быть строго статистически обоснованы результатами вычислений и соответствующими текстовыми комментариями."
      ]
    },
    {
      "cell_type": "markdown",
      "metadata": {
        "id": "ZHuA3BXvKSCy"
      },
      "source": [
        "## Цель теста\n",
        "\n",
        "Регрессионый анализ котировок дневных цен закрытия предложенных в варианте инструментов.\n"
      ]
    },
    {
      "cell_type": "markdown",
      "metadata": {
        "id": "2SE2b43aKSCz"
      },
      "source": [
        "Текст задания одинаков для всех вариантов, разные только данные в каждом варианте.\n",
        "\n",
        "*\tИмпортировать дневные цены закрытия перечисленных товаров,валют, индексов  и акций за последние 2 года\n",
        "*\tИмпортированные данные должны быть синхронизированы по времени. При необходимости произвести синхронизацию. Отсутсвующие в некотором интрументе даты следует удалить из всех инструментов.\n",
        "*\tПерейти к логарифмическим доходностям\n",
        "\t$$r_t=ln(S_t/S_{t-1})=ln(S_t)-ln(S_{t-1}$$\n",
        "*\tПостроить регрессионную модель\n",
        "\t$$y_t=a_0+a_1 x_{t,1}+⋯+a_p x_{t,p}+\\epsilon_t$$\n",
        "\n",
        "*\tОпределить значимые и незначимые предикторы. Ответ обосновать статистическими результатами.\n",
        "* \tПроверить помогает ли регуляризация (L1, L2, ElasticNet)\n",
        "* \tОтветить и обосновать ответ на вопрос \"Является ли модель не вырожденной?\"\n",
        "*\tПереоценить модель только для значимых переменных"
      ]
    },
    {
      "cell_type": "markdown",
      "source": [
        "Вариант 10\n",
        "\n",
        "Зависимая переменная\n",
        "\n",
        "    Акции Лукойл https://www.finam.ru/profile/moex-akcii/lukoil/export/\n",
        "\n",
        "Предикторы\n",
        "\n",
        "    Индекс S&P500 https://www.finam.ru/profile/mirovye-indeksy/sandp-500/export/\n",
        "    Золото https://www.finam.ru/profile/tovary/gold/export/\n",
        "    Нефть.Брент https://www.finam.ru/profile/tovary/brent/export/\n",
        "    Медь https://www.finam.ru/profile/tovary/copper/export/\n",
        "    USD / Euro https://www.finam.ru/profile/forex/eur-usd/export/\n",
        "    RUB/USD https://www.finam.ru/profile/forex/usd-rub/export/\n",
        "    Газ https://www.finam.ru/profile/tovary/natural-gas/export/\n"
      ],
      "metadata": {
        "id": "Dx-r9Q3yNR28"
      }
    },
    {
      "cell_type": "code",
      "source": [
        "from google.colab import drive\n",
        "drive.mount('/content/drive')"
      ],
      "metadata": {
        "id": "zZNs3SvnNWFA",
        "outputId": "328e2568-25f3-4f7c-dfad-28437070564c",
        "colab": {
          "base_uri": "https://localhost:8080/"
        }
      },
      "execution_count": 1,
      "outputs": [
        {
          "output_type": "stream",
          "name": "stdout",
          "text": [
            "Drive already mounted at /content/drive; to attempt to forcibly remount, call drive.mount(\"/content/drive\", force_remount=True).\n"
          ]
        }
      ]
    },
    {
      "cell_type": "code",
      "source": [
        "import os\n",
        "import pandas as pd\n",
        "import numpy as np\n",
        "import matplotlib.pyplot as plt"
      ],
      "metadata": {
        "id": "weW0rOOVOLVH"
      },
      "execution_count": 2,
      "outputs": []
    },
    {
      "cell_type": "markdown",
      "source": [
        "Считаем файлы, сортируем по дате, вычислим логарифмические доходности и соберем в один датафрейм merged_df."
      ],
      "metadata": {
        "id": "lULGAss1pPur"
      }
    },
    {
      "cell_type": "code",
      "source": [
        "#Чтение файлов\n",
        "\n",
        "folder_path = '/content/drive/My Drive/prac2data'\n",
        "dataframes_dict = {}\n",
        "\n",
        "for filename in os.listdir(folder_path):\n",
        "    if filename.endswith('.csv'):\n",
        "        key = filename.split('_')[0]\n",
        "        file_path = os.path.join(folder_path, filename)\n",
        "        dataframes_dict[key] = pd.read_csv(file_path, sep=';')\n",
        "        dataframes_dict[key]['<DATE>'] = pd.to_datetime(dataframes_dict[key]['<DATE>'], format='%y%m%d')\n",
        "dataframes = list(dataframes_dict.values())"
      ],
      "metadata": {
        "id": "lfFDZOawP-_C"
      },
      "execution_count": 3,
      "outputs": []
    },
    {
      "cell_type": "code",
      "source": [
        "# Вычисление логарифмических доходностей\n",
        "for i, df in enumerate(dataframes):\n",
        "\n",
        "    df['log_return'] = np.nan\n",
        "\n",
        "    for j in range(1, len(df)):\n",
        "        prev_date = df.iloc[j - 1]['<DATE>']\n",
        "        current_date = df.iloc[j]['<DATE>']\n",
        "\n",
        "        # Проверяем, что предыдущая дата идет непосредственно перед текущей\n",
        "        if (current_date - prev_date).days == 1:\n",
        "            df.at[df.index[j], 'log_return'] = np.log(df.iloc[j]['<CLOSE>']) - np.log(df.iloc[j - 1]['<CLOSE>'])\n",
        "        else:\n",
        "            df.at[df.index[j], 'log_return'] = np.nan  # Если предыдущей даты нет, пишем NA\n",
        "\n",
        "    df = df.dropna(subset=['log_return'])\n",
        "    dataframes[i] = df"
      ],
      "metadata": {
        "id": "Cov58ZQaT6qE"
      },
      "execution_count": 4,
      "outputs": []
    },
    {
      "cell_type": "code",
      "source": [
        "import statsmodels.api as sm\n",
        "from sklearn.linear_model import LinearRegression\n",
        "from sklearn.linear_model import Lasso, Ridge, ElasticNet\n",
        "from sklearn.model_selection import train_test_split, cross_val_score, GridSearchCV\n",
        "from sklearn.preprocessing import StandardScaler\n",
        "from sklearn.metrics import mean_squared_error, mean_absolute_error"
      ],
      "metadata": {
        "id": "MAHNB-G5X17M"
      },
      "execution_count": 5,
      "outputs": []
    },
    {
      "cell_type": "code",
      "source": [
        "log_return_dfs = []\n",
        "\n",
        "for df in dataframes:\n",
        "    log_return_df = df[['<DATE>', 'log_return']].copy()\n",
        "\n",
        "    ticker = df['<TICKER>'].iloc[0]\n",
        "    log_return_df.rename(columns={'log_return': ticker}, inplace=True)\n",
        "\n",
        "    log_return_dfs.append(log_return_df)\n",
        "\n",
        "# Объединяем все датафреймы по колонке '<DATE>'\n",
        "merged_df = log_return_dfs[0]\n",
        "for df in log_return_dfs[1:]:\n",
        "    merged_df = pd.merge(merged_df, df, on='<DATE>', how='inner')  # Объединяем по дате\n",
        "\n",
        "print(merged_df.head())"
      ],
      "metadata": {
        "colab": {
          "base_uri": "https://localhost:8080/"
        },
        "id": "6PFJGi6ZYp4F",
        "outputId": "fe61d635-736f-4c7c-ac27-21c872d69190"
      },
      "execution_count": 6,
      "outputs": [
        {
          "output_type": "stream",
          "name": "stdout",
          "text": [
            "      <DATE>    USDRUB        NG       SPX      LKOH        GC    EURUSD  \\\n",
            "0 2023-03-17  0.005249  0.004785  0.017410  0.015298  0.007847  0.003029   \n",
            "1 2023-03-18  0.005798 -0.067460 -0.011081  0.006711  0.031488  0.004728   \n",
            "2 2023-03-22 -0.003101  0.025987  0.012899 -0.002842 -0.023004  0.005025   \n",
            "3 2023-03-23 -0.004187 -0.042182 -0.010967 -0.005708  0.018869  0.008909   \n",
            "4 2023-03-24 -0.012146 -0.013699 -0.002653 -0.003584  0.008051 -0.003207   \n",
            "\n",
            "         BZ        CA  \n",
            "0  0.005907 -0.005815  \n",
            "1 -0.030441  0.007552  \n",
            "2  0.017469  0.006843  \n",
            "3  0.005314  0.015797  \n",
            "4 -0.004249  0.014777  \n"
          ]
        }
      ]
    },
    {
      "cell_type": "code",
      "source": [
        "merged_df.shape"
      ],
      "metadata": {
        "colab": {
          "base_uri": "https://localhost:8080/"
        },
        "id": "PuTF-48Ke3z7",
        "outputId": "e21138d9-50bf-4063-934e-2a078f1df53f"
      },
      "execution_count": 7,
      "outputs": [
        {
          "output_type": "execute_result",
          "data": {
            "text/plain": [
              "(364, 9)"
            ]
          },
          "metadata": {},
          "execution_count": 7
        }
      ]
    },
    {
      "cell_type": "markdown",
      "source": [
        "Создадим линейную модель, зависимая переменная - акции лукойла, предикторы - остальные активы. Данные масштабируем."
      ],
      "metadata": {
        "id": "I743yWymlNZN"
      }
    },
    {
      "cell_type": "code",
      "source": [
        "y = merged_df['LKOH']\n",
        "X = merged_df.drop(columns=['<DATE>', 'LKOH'])\n",
        "\n",
        "scaler = StandardScaler()\n",
        "X_scaled = scaler.fit_transform(X)\n",
        "\n",
        "\n",
        "X_train, X_test, y_train, y_test = train_test_split(X_scaled, y, test_size=0.2, random_state=42)"
      ],
      "metadata": {
        "id": "kdOcYpuTli5L"
      },
      "execution_count": 8,
      "outputs": []
    },
    {
      "cell_type": "code",
      "source": [
        "linear_model = LinearRegression()\n",
        "linear_model.fit(X_train, y_train)\n",
        "\n",
        "y_pred = linear_model.predict(X_test)\n",
        "\n",
        "\n",
        "mse = mean_squared_error(y_test, y_pred)\n",
        "print(f\"MSE линейной регрессии: {mse}\")\n",
        "print(\"Коэффициенты модели:\", linear_model.coef_, \"\\n\")\n",
        "\n",
        "mae = mean_absolute_error(y_test, y_pred)\n",
        "print(f\"MAE линейной регрессии: {mae}\")\n",
        "print(\"Коэффициенты модели:\", linear_model.coef_, \"\\n\")"
      ],
      "metadata": {
        "colab": {
          "base_uri": "https://localhost:8080/"
        },
        "id": "Sb60L1zwlj3P",
        "outputId": "36cdc51a-f954-4c96-bdf2-3806485e68be"
      },
      "execution_count": 9,
      "outputs": [
        {
          "output_type": "stream",
          "name": "stdout",
          "text": [
            "MSE линейной регрессии: 0.0002851785354114858\n",
            "Коэффициенты модели: [-9.22749953e-04 -1.06117748e-03 -3.71026559e-04  6.42160873e-04\n",
            "  9.78677567e-05  7.53743676e-04 -7.03975041e-04] \n",
            "\n",
            "MAE линейной регрессии: 0.012198465465929762\n",
            "Коэффициенты модели: [-9.22749953e-04 -1.06117748e-03 -3.71026559e-04  6.42160873e-04\n",
            "  9.78677567e-05  7.53743676e-04 -7.03975041e-04] \n",
            "\n"
          ]
        }
      ]
    },
    {
      "cell_type": "markdown",
      "source": [
        "С помощью statsmodel рассчитаем статистики работы с моделью линейной регрессии."
      ],
      "metadata": {
        "id": "Z9S3VFTQleUx"
      }
    },
    {
      "cell_type": "code",
      "source": [
        "X_train_with_const = sm.add_constant(X_train)\n",
        "\n",
        "ols_model = sm.OLS(y_train, X_train_with_const).fit()\n",
        "\n",
        "print(ols_model.summary())\n",
        "\n",
        "# Значимые предикторы (p-value < 0.05)\n",
        "significant_predictors = ols_model.pvalues[ols_model.pvalues < 0.05].index.tolist()\n",
        "print(\"Значимые предикторы:\", significant_predictors)"
      ],
      "metadata": {
        "colab": {
          "base_uri": "https://localhost:8080/"
        },
        "id": "4KtRcddUloi_",
        "outputId": "7723d927-ddde-42c6-c033-9af7029c6e12"
      },
      "execution_count": 10,
      "outputs": [
        {
          "output_type": "stream",
          "name": "stdout",
          "text": [
            "                            OLS Regression Results                            \n",
            "==============================================================================\n",
            "Dep. Variable:                   LKOH   R-squared:                       0.015\n",
            "Model:                            OLS   Adj. R-squared:                 -0.009\n",
            "Method:                 Least Squares   F-statistic:                    0.6129\n",
            "Date:                Mon, 17 Mar 2025   Prob (F-statistic):              0.745\n",
            "Time:                        05:47:40   Log-Likelihood:                 846.74\n",
            "No. Observations:                 291   AIC:                            -1677.\n",
            "Df Residuals:                     283   BIC:                            -1648.\n",
            "Df Model:                           7                                         \n",
            "Covariance Type:            nonrobust                                         \n",
            "==============================================================================\n",
            "                 coef    std err          t      P>|t|      [0.025      0.975]\n",
            "------------------------------------------------------------------------------\n",
            "const          0.0004      0.001      0.484      0.628      -0.001       0.002\n",
            "x1            -0.0009      0.001     -1.093      0.275      -0.003       0.001\n",
            "x2            -0.0011      0.001     -1.252      0.212      -0.003       0.001\n",
            "x3            -0.0004      0.001     -0.436      0.663      -0.002       0.001\n",
            "x4             0.0006      0.001      0.716      0.475      -0.001       0.002\n",
            "x5          9.787e-05      0.001      0.109      0.914      -0.002       0.002\n",
            "x6             0.0008      0.001      0.931      0.353      -0.001       0.002\n",
            "x7            -0.0007      0.001     -0.791      0.430      -0.002       0.001\n",
            "==============================================================================\n",
            "Omnibus:                       40.662   Durbin-Watson:                   2.065\n",
            "Prob(Omnibus):                  0.000   Jarque-Bera (JB):              295.285\n",
            "Skew:                          -0.163   Prob(JB):                     7.58e-65\n",
            "Kurtosis:                       7.924   Cond. No.                         1.80\n",
            "==============================================================================\n",
            "\n",
            "Notes:\n",
            "[1] Standard Errors assume that the covariance matrix of the errors is correctly specified.\n",
            "Значимые предикторы: []\n"
          ]
        }
      ]
    },
    {
      "cell_type": "markdown",
      "source": [
        "Вывод:\n",
        "\n",
        "***R-squared (R²): 0.015***\n",
        "\n",
        "Это значение показывает, что модель объясняет только 1.5% дисперсии зависимой переменной (в данном случае — доходности актива LKOH). Это крайне низкое значение, что указывает на плохое качество модели.\n",
        "\n",
        "***Adjusted R-squared: -0.009***\n",
        "\n",
        "Скорректированный R² учитывает количество предикторов в модели. Отрицательное значение говорит о том, что модель хуже, чем просто использование среднего значения зависимой переменной.\n",
        "\n",
        "***F-statistic: 0.6129, Prob (F-statistic): 0.745***\n",
        "\n",
        "F-статистика проверяет общую значимость модели. Значение p-value (0.745) значительно превышает стандартный порог 0.05, что означает, что модель не является статистически значимой.\n",
        "\n",
        "***Коэффиценты***\n",
        "\n",
        "Все коэффициенты близки к нулю, что указывает на слабое влияние предикторов.\n",
        "\n",
        "P>|t| (p-значения) для всех коэффициентов значительно превышают 0.05, что означает, что ни один из предикторов не является статистически значимым.\n",
        "\n",
        "***Omnibus: 40.662, Prob(Omnibus): 0.000***\n",
        "\n",
        "Тест Omnibus проверяет нормальность остатков модели. Низкое p-value (0.000) указывает на то, что остатки не распределены нормально.\n",
        "\n",
        "**Jarque-Bera (JB): 295.285, Prob(JB): 7.58e-65**\n",
        "\n",
        "Тест Jarque-Bera также проверяет нормальность остатков. Очень низкое p-value подтверждает, что остатки не нормально распределены.\n",
        "\n",
        "**Durbin-Watson: 2.065**\n",
        "\n",
        "Этот тест проверяет автокорреляцию остатков. Значение близко к 2, что указывает на отсутствие автокорреляции.\n",
        "\n",
        "**Cond. No.: 1.80**\n",
        "\n",
        "Число обусловленности (Condition Number) проверяет мультиколлинеарность. Значение 1.80 указывает на отсутствие сильной мультиколлинеарности.\n",
        "\n",
        "\n"
      ],
      "metadata": {
        "id": "G-JSemaKlpiW"
      }
    },
    {
      "cell_type": "markdown",
      "source": [
        "---\n",
        "Получается, модель работает плохо, нет значимых предикторов.\n",
        "\n",
        "Также признаки слабо коррелированы между собой, это можно наглядно увидеть из матрицы:"
      ],
      "metadata": {
        "id": "Pr4fdvZqnbez"
      }
    },
    {
      "cell_type": "code",
      "source": [
        "import seaborn as sns\n",
        "corr_matrix = X.corr()\n",
        "\n",
        "plt.figure(figsize=(10, 8))\n",
        "sns.heatmap(corr_matrix, annot=True, cmap='coolwarm', fmt=\".2f\", linewidths=0.5)\n",
        "plt.title(\"Корреляционная матрица\")\n",
        "plt.show()"
      ],
      "metadata": {
        "colab": {
          "base_uri": "https://localhost:8080/",
          "height": 699
        },
        "id": "Kae_XvxDnc2N",
        "outputId": "ad7b4881-da50-4e33-8115-cbfcb8a08333"
      },
      "execution_count": 11,
      "outputs": [
        {
          "output_type": "display_data",
          "data": {
            "text/plain": [
              "<Figure size 1000x800 with 2 Axes>"
            ],
            "image/png": "[encoded data removed]"
          },
          "metadata": {}
        }
      ]
    },
    {
      "cell_type": "markdown",
      "source": [
        "Применим регуляризацию. Параметры подберем с помощью перебора GridSearch, затем посмотрим на результаты лучших моделей."
      ],
      "metadata": {
        "id": "34biGcH1oIyw"
      }
    },
    {
      "cell_type": "code",
      "source": [
        "lasso = Lasso()\n",
        "ridge = Ridge()\n",
        "elastic = ElasticNet()\n",
        "\n",
        "# Перебор параметров регуляризации\n",
        "param_grid_lasso = {'alpha': [0.001, 0.01, 0.1, 1, 10]}\n",
        "param_grid_ridge = {'alpha': [0.001, 0.01, 0.1, 1, 10]}\n",
        "param_grid_elastic = {'alpha': [0.001, 0.01, 0.1, 1, 10], 'l1_ratio': [0.2, 0.5, 0.8]}\n",
        "\n",
        "grid_lasso = GridSearchCV(lasso, param_grid_lasso, scoring='neg_mean_absolute_error', cv=5)\n",
        "grid_lasso.fit(X_train, y_train)\n",
        "\n",
        "grid_ridge = GridSearchCV(ridge, param_grid_ridge, scoring='neg_mean_absolute_error', cv=5)\n",
        "grid_ridge.fit(X_train, y_train)\n",
        "\n",
        "grid_elastic = GridSearchCV(elastic, param_grid_elastic, scoring='neg_mean_absolute_error', cv=5)\n",
        "grid_elastic.fit(X_train, y_train)\n",
        "\n",
        "# Вывод лучших параметров и результатов\n",
        "print(\"Лучшие параметры для Lasso:\", grid_lasso.best_params_)\n",
        "print(\"Лучший MSE для Lasso:\", -grid_lasso.best_score_)\n",
        "\n",
        "print(\"Лучшие параметры для Ridge:\", grid_ridge.best_params_)\n",
        "print(\"Лучший MSE для Ridge:\", -grid_ridge.best_score_)\n",
        "\n",
        "print(\"Лучшие параметры для ElasticNet:\", grid_elastic.best_params_)\n",
        "print(\"Лучший MSE для ElasticNet:\", -grid_elastic.best_score_)\n",
        "\n",
        "print(\"\\n\")\n",
        "\n",
        "best_lasso = grid_lasso.best_estimator_\n",
        "y_pred_lasso = best_lasso.predict(X_test)\n",
        "mse_lasso = mean_squared_error(y_test, y_pred_lasso)\n",
        "print(f\"MSE Lasso на тестовых данных: {mse_lasso}\")\n",
        "mae_lasso = mean_absolute_error(y_test, y_pred_lasso)\n",
        "print(f\"MAE Lasso на тестовых данных: {mae_lasso}\")\n",
        "print(\"Коэффиценты регуляризации:\", best_lasso.coef_, \"\\n\")\n",
        "\n",
        "best_ridge = grid_ridge.best_estimator_\n",
        "y_pred_ridge = best_ridge.predict(X_test)\n",
        "mse_ridge = mean_squared_error(y_test, y_pred_ridge)\n",
        "print(f\"MSE Ridge на тестовых данных: {mse_ridge}\")\n",
        "mae_ridge = mean_absolute_error(y_test, y_pred_lasso)\n",
        "print(f\"MAE Ridge на тестовых данных: {mae_ridge}\")\n",
        "print(\"Коэффиценты регуляризации:\", best_ridge.coef_, \"\\n\")\n",
        "\n",
        "best_elastic = grid_elastic.best_estimator_\n",
        "y_pred_elastic = best_elastic.predict(X_test)\n",
        "mse_elastic = mean_squared_error(y_test, y_pred_elastic)\n",
        "print(f\"MSE ElasticNet на тестовых данных: {mse_elastic}\")\n",
        "mae_elastic = mean_absolute_error(y_test, y_pred_lasso)\n",
        "print(f\"MAE ElasticNet на тестовых данных: {mae_elastic}\")\n",
        "print(\"Коэффиценты регуляризации:\", best_elastic.coef_, \"\\n\")"
      ],
      "metadata": {
        "colab": {
          "base_uri": "https://localhost:8080/"
        },
        "id": "PD_d2on5lxL8",
        "outputId": "2198d494-6494-4973-ecaa-20cbce95fd65"
      },
      "execution_count": 12,
      "outputs": [
        {
          "output_type": "stream",
          "name": "stdout",
          "text": [
            "Лучшие параметры для Lasso: {'alpha': 0.01}\n",
            "Лучший MSE для Lasso: 0.009375493581910522\n",
            "Лучшие параметры для Ridge: {'alpha': 10}\n",
            "Лучший MSE для Ridge: 0.009698128057957703\n",
            "Лучшие параметры для ElasticNet: {'alpha': 0.01, 'l1_ratio': 0.2}\n",
            "Лучший MSE для ElasticNet: 0.009375493581910522\n",
            "\n",
            "\n",
            "MSE Lasso на тестовых данных: 0.0002768401036866669\n",
            "MAE Lasso на тестовых данных: 0.011758796379995112\n",
            "Коэффиценты регуляризации: [-0. -0. -0.  0.  0.  0. -0.] \n",
            "\n",
            "MSE Ridge на тестовых данных: 0.0002846202654086984\n",
            "MAE Ridge на тестовых данных: 0.011758796379995112\n",
            "Коэффиценты регуляризации: [-8.81250933e-04 -1.01634714e-03 -3.59740160e-04  6.10092920e-04\n",
            "  9.58534209e-05  7.20529768e-04 -6.58775257e-04] \n",
            "\n",
            "MSE ElasticNet на тестовых данных: 0.0002768401036866669\n",
            "MAE ElasticNet на тестовых данных: 0.011758796379995112\n",
            "Коэффиценты регуляризации: [-0. -0. -0.  0.  0.  0. -0.] \n",
            "\n"
          ]
        }
      ]
    },
    {
      "cell_type": "markdown",
      "source": [
        "MAE моделей с регуляризацией не отличается от MAE бащовой модели.\n",
        "Также можно заметить, что \"негладкие\" регуляризаторы ElasticNet и  Lasso зануляют все коэффиценты у признаков, что логично, потому что мы знаем, что они незначимые.\n",
        "\n",
        "Регуляризация не очень помогает, так как сами признаки не объясняют целевую переменную."
      ],
      "metadata": {
        "id": "uT5OfUwVoW1o"
      }
    },
    {
      "cell_type": "markdown",
      "source": [
        "Обучение модели только со значимыми предикторами отсутсвует, так как среди наших признаков таких нет."
      ],
      "metadata": {
        "id": "DDP2-V4Io6MM"
      }
    }
  ],
  "metadata": {
    "language_info": {
      "name": "python"
    },
    "colab": {
      "provenance": []
    },
    "kernelspec": {
      "name": "python3",
      "display_name": "Python 3"
    }
  },
  "nbformat": 4,
  "nbformat_minor": 0
}